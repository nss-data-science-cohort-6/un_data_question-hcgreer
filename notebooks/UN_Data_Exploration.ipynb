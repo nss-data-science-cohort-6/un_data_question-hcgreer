{
 "cells": [
  {
   "cell_type": "code",
   "execution_count": 1,
   "id": "c0932fc7",
   "metadata": {},
   "outputs": [],
   "source": [
    "import pandas as pd\n",
    "import numpy as np\n",
    "import matplotlib.pyplot as plt\n",
    "import seaborn as sns\n",
    "sns.set_theme(style = 'whitegrid', palette = 'Set2')"
   ]
  },
  {
   "cell_type": "markdown",
   "id": "ee741f8a",
   "metadata": {},
   "source": [
    "## Number 4"
   ]
  },
  {
   "cell_type": "code",
   "execution_count": 2,
   "id": "59150316",
   "metadata": {},
   "outputs": [],
   "source": [
    "gdp_df_raw = pd.read_csv('../data/gdp_per_capita.csv', skipfooter = 2, engine = 'python')"
   ]
  },
  {
   "cell_type": "code",
   "execution_count": 3,
   "id": "b0f634f7",
   "metadata": {},
   "outputs": [
    {
     "data": {
      "text/html": [
       "<div>\n",
       "<style scoped>\n",
       "    .dataframe tbody tr th:only-of-type {\n",
       "        vertical-align: middle;\n",
       "    }\n",
       "\n",
       "    .dataframe tbody tr th {\n",
       "        vertical-align: top;\n",
       "    }\n",
       "\n",
       "    .dataframe thead th {\n",
       "        text-align: right;\n",
       "    }\n",
       "</style>\n",
       "<table border=\"1\" class=\"dataframe\">\n",
       "  <thead>\n",
       "    <tr style=\"text-align: right;\">\n",
       "      <th></th>\n",
       "      <th>Country or Area</th>\n",
       "      <th>Year</th>\n",
       "      <th>Value</th>\n",
       "      <th>Value Footnotes</th>\n",
       "    </tr>\n",
       "  </thead>\n",
       "  <tbody>\n",
       "    <tr>\n",
       "      <th>0</th>\n",
       "      <td>Afghanistan</td>\n",
       "      <td>2019</td>\n",
       "      <td>2065.036398</td>\n",
       "      <td>NaN</td>\n",
       "    </tr>\n",
       "    <tr>\n",
       "      <th>1</th>\n",
       "      <td>Afghanistan</td>\n",
       "      <td>2018</td>\n",
       "      <td>2033.779002</td>\n",
       "      <td>NaN</td>\n",
       "    </tr>\n",
       "    <tr>\n",
       "      <th>2</th>\n",
       "      <td>Afghanistan</td>\n",
       "      <td>2017</td>\n",
       "      <td>2058.383832</td>\n",
       "      <td>NaN</td>\n",
       "    </tr>\n",
       "    <tr>\n",
       "      <th>3</th>\n",
       "      <td>Afghanistan</td>\n",
       "      <td>2016</td>\n",
       "      <td>2057.062164</td>\n",
       "      <td>NaN</td>\n",
       "    </tr>\n",
       "    <tr>\n",
       "      <th>4</th>\n",
       "      <td>Afghanistan</td>\n",
       "      <td>2015</td>\n",
       "      <td>2068.265904</td>\n",
       "      <td>NaN</td>\n",
       "    </tr>\n",
       "    <tr>\n",
       "      <th>5</th>\n",
       "      <td>Afghanistan</td>\n",
       "      <td>2014</td>\n",
       "      <td>2102.385234</td>\n",
       "      <td>NaN</td>\n",
       "    </tr>\n",
       "    <tr>\n",
       "      <th>6</th>\n",
       "      <td>Afghanistan</td>\n",
       "      <td>2013</td>\n",
       "      <td>2116.465454</td>\n",
       "      <td>NaN</td>\n",
       "    </tr>\n",
       "    <tr>\n",
       "      <th>7</th>\n",
       "      <td>Afghanistan</td>\n",
       "      <td>2012</td>\n",
       "      <td>2075.491747</td>\n",
       "      <td>NaN</td>\n",
       "    </tr>\n",
       "    <tr>\n",
       "      <th>8</th>\n",
       "      <td>Afghanistan</td>\n",
       "      <td>2011</td>\n",
       "      <td>1904.559799</td>\n",
       "      <td>NaN</td>\n",
       "    </tr>\n",
       "    <tr>\n",
       "      <th>9</th>\n",
       "      <td>Afghanistan</td>\n",
       "      <td>2010</td>\n",
       "      <td>1957.029338</td>\n",
       "      <td>NaN</td>\n",
       "    </tr>\n",
       "  </tbody>\n",
       "</table>\n",
       "</div>"
      ],
      "text/plain": [
       "  Country or Area  Year        Value  Value Footnotes\n",
       "0     Afghanistan  2019  2065.036398              NaN\n",
       "1     Afghanistan  2018  2033.779002              NaN\n",
       "2     Afghanistan  2017  2058.383832              NaN\n",
       "3     Afghanistan  2016  2057.062164              NaN\n",
       "4     Afghanistan  2015  2068.265904              NaN\n",
       "5     Afghanistan  2014  2102.385234              NaN\n",
       "6     Afghanistan  2013  2116.465454              NaN\n",
       "7     Afghanistan  2012  2075.491747              NaN\n",
       "8     Afghanistan  2011  1904.559799              NaN\n",
       "9     Afghanistan  2010  1957.029338              NaN"
      ]
     },
     "execution_count": 3,
     "metadata": {},
     "output_type": "execute_result"
    }
   ],
   "source": [
    "gdp_df_raw.head(10)"
   ]
  },
  {
   "cell_type": "code",
   "execution_count": 4,
   "id": "af75f753",
   "metadata": {},
   "outputs": [
    {
     "data": {
      "text/html": [
       "<div>\n",
       "<style scoped>\n",
       "    .dataframe tbody tr th:only-of-type {\n",
       "        vertical-align: middle;\n",
       "    }\n",
       "\n",
       "    .dataframe tbody tr th {\n",
       "        vertical-align: top;\n",
       "    }\n",
       "\n",
       "    .dataframe thead th {\n",
       "        text-align: right;\n",
       "    }\n",
       "</style>\n",
       "<table border=\"1\" class=\"dataframe\">\n",
       "  <thead>\n",
       "    <tr style=\"text-align: right;\">\n",
       "      <th></th>\n",
       "      <th>Country or Area</th>\n",
       "      <th>Year</th>\n",
       "      <th>Value</th>\n",
       "      <th>Value Footnotes</th>\n",
       "    </tr>\n",
       "  </thead>\n",
       "  <tbody>\n",
       "    <tr>\n",
       "      <th>6863</th>\n",
       "      <td>Zimbabwe</td>\n",
       "      <td>1994</td>\n",
       "      <td>3263.934978</td>\n",
       "      <td>NaN</td>\n",
       "    </tr>\n",
       "    <tr>\n",
       "      <th>6864</th>\n",
       "      <td>Zimbabwe</td>\n",
       "      <td>1993</td>\n",
       "      <td>3033.504852</td>\n",
       "      <td>NaN</td>\n",
       "    </tr>\n",
       "    <tr>\n",
       "      <th>6865</th>\n",
       "      <td>Zimbabwe</td>\n",
       "      <td>1992</td>\n",
       "      <td>3054.889178</td>\n",
       "      <td>NaN</td>\n",
       "    </tr>\n",
       "    <tr>\n",
       "      <th>6866</th>\n",
       "      <td>Zimbabwe</td>\n",
       "      <td>1991</td>\n",
       "      <td>3426.598094</td>\n",
       "      <td>NaN</td>\n",
       "    </tr>\n",
       "    <tr>\n",
       "      <th>6867</th>\n",
       "      <td>Zimbabwe</td>\n",
       "      <td>1990</td>\n",
       "      <td>3324.348171</td>\n",
       "      <td>NaN</td>\n",
       "    </tr>\n",
       "  </tbody>\n",
       "</table>\n",
       "</div>"
      ],
      "text/plain": [
       "     Country or Area  Year        Value  Value Footnotes\n",
       "6863        Zimbabwe  1994  3263.934978              NaN\n",
       "6864        Zimbabwe  1993  3033.504852              NaN\n",
       "6865        Zimbabwe  1992  3054.889178              NaN\n",
       "6866        Zimbabwe  1991  3426.598094              NaN\n",
       "6867        Zimbabwe  1990  3324.348171              NaN"
      ]
     },
     "execution_count": 4,
     "metadata": {},
     "output_type": "execute_result"
    }
   ],
   "source": [
    "gdp_df_raw.tail()"
   ]
  },
  {
   "cell_type": "markdown",
   "id": "3cc411b2",
   "metadata": {},
   "source": [
    "## Number 5"
   ]
  },
  {
   "cell_type": "code",
   "execution_count": 5,
   "id": "66d3c49d",
   "metadata": {},
   "outputs": [
    {
     "data": {
      "text/html": [
       "<div>\n",
       "<style scoped>\n",
       "    .dataframe tbody tr th:only-of-type {\n",
       "        vertical-align: middle;\n",
       "    }\n",
       "\n",
       "    .dataframe tbody tr th {\n",
       "        vertical-align: top;\n",
       "    }\n",
       "\n",
       "    .dataframe thead th {\n",
       "        text-align: right;\n",
       "    }\n",
       "</style>\n",
       "<table border=\"1\" class=\"dataframe\">\n",
       "  <thead>\n",
       "    <tr style=\"text-align: right;\">\n",
       "      <th></th>\n",
       "      <th>Country</th>\n",
       "      <th>Year</th>\n",
       "      <th>GDP_Per_Capita</th>\n",
       "    </tr>\n",
       "  </thead>\n",
       "  <tbody>\n",
       "    <tr>\n",
       "      <th>0</th>\n",
       "      <td>Afghanistan</td>\n",
       "      <td>2019</td>\n",
       "      <td>2065.036398</td>\n",
       "    </tr>\n",
       "    <tr>\n",
       "      <th>1</th>\n",
       "      <td>Afghanistan</td>\n",
       "      <td>2018</td>\n",
       "      <td>2033.779002</td>\n",
       "    </tr>\n",
       "    <tr>\n",
       "      <th>2</th>\n",
       "      <td>Afghanistan</td>\n",
       "      <td>2017</td>\n",
       "      <td>2058.383832</td>\n",
       "    </tr>\n",
       "    <tr>\n",
       "      <th>3</th>\n",
       "      <td>Afghanistan</td>\n",
       "      <td>2016</td>\n",
       "      <td>2057.062164</td>\n",
       "    </tr>\n",
       "    <tr>\n",
       "      <th>4</th>\n",
       "      <td>Afghanistan</td>\n",
       "      <td>2015</td>\n",
       "      <td>2068.265904</td>\n",
       "    </tr>\n",
       "  </tbody>\n",
       "</table>\n",
       "</div>"
      ],
      "text/plain": [
       "       Country  Year  GDP_Per_Capita\n",
       "0  Afghanistan  2019     2065.036398\n",
       "1  Afghanistan  2018     2033.779002\n",
       "2  Afghanistan  2017     2058.383832\n",
       "3  Afghanistan  2016     2057.062164\n",
       "4  Afghanistan  2015     2068.265904"
      ]
     },
     "execution_count": 5,
     "metadata": {},
     "output_type": "execute_result"
    }
   ],
   "source": [
    "gdp_df = (gdp_df_raw.drop(columns = 'Value Footnotes')\n",
    "          .rename(columns = {'Country or Area' : 'Country', 'Value' : 'GDP_Per_Capita'},)\n",
    "         )\n",
    "gdp_df.head()"
   ]
  },
  {
   "cell_type": "markdown",
   "id": "410f046d",
   "metadata": {},
   "source": [
    "## Number 6"
   ]
  },
  {
   "cell_type": "code",
   "execution_count": 6,
   "id": "8c34a443",
   "metadata": {},
   "outputs": [
    {
     "name": "stdout",
     "output_type": "stream",
     "text": [
      "6868\n"
     ]
    }
   ],
   "source": [
    "print(len(gdp_df.axes[0]))"
   ]
  },
  {
   "cell_type": "code",
   "execution_count": 7,
   "id": "4e223be8",
   "metadata": {},
   "outputs": [
    {
     "name": "stdout",
     "output_type": "stream",
     "text": [
      "3\n"
     ]
    }
   ],
   "source": [
    "print(len(gdp_df.axes[1]))"
   ]
  },
  {
   "cell_type": "code",
   "execution_count": 8,
   "id": "a19793a0",
   "metadata": {},
   "outputs": [
    {
     "data": {
      "text/plain": [
       "Country            object\n",
       "Year                int64\n",
       "GDP_Per_Capita    float64\n",
       "dtype: object"
      ]
     },
     "execution_count": 8,
     "metadata": {},
     "output_type": "execute_result"
    }
   ],
   "source": [
    "gdp_df.dtypes"
   ]
  },
  {
   "cell_type": "markdown",
   "id": "72b3fb96",
   "metadata": {},
   "source": [
    "The DataFrame has 3 columns and 6868 rows.\n",
    "Country is and object, year is and,int and GDP is a float."
   ]
  },
  {
   "cell_type": "markdown",
   "id": "c42f57f2",
   "metadata": {},
   "source": [
    "## Number 7"
   ]
  },
  {
   "cell_type": "code",
   "execution_count": 9,
   "id": "4f55aae0",
   "metadata": {},
   "outputs": [
    {
     "data": {
      "text/plain": [
       "2017    238\n",
       "2016    238\n",
       "2015    238\n",
       "2014    238\n",
       "2013    238\n",
       "2012    237\n",
       "2011    237\n",
       "2018    237\n",
       "2010    236\n",
       "2009    236\n",
       "2008    235\n",
       "2007    235\n",
       "2006    235\n",
       "2005    234\n",
       "2004    234\n",
       "2003    233\n",
       "2002    233\n",
       "2001    232\n",
       "2000    231\n",
       "2019    231\n",
       "1999    224\n",
       "1998    223\n",
       "1997    223\n",
       "1996    221\n",
       "1995    221\n",
       "1994    214\n",
       "1993    212\n",
       "1992    209\n",
       "1991    208\n",
       "1990    207\n",
       "Name: Year, dtype: int64"
      ]
     },
     "execution_count": 9,
     "metadata": {},
     "output_type": "execute_result"
    }
   ],
   "source": [
    "gdp_df['Year'].value_counts()"
   ]
  },
  {
   "cell_type": "markdown",
   "id": "83b3a7c5",
   "metadata": {},
   "source": [
    " There is a different amount of countries represented per year."
   ]
  },
  {
   "cell_type": "markdown",
   "id": "06199715",
   "metadata": {},
   "source": [
    "## Number 8"
   ]
  },
  {
   "cell_type": "code",
   "execution_count": 10,
   "id": "82a31676",
   "metadata": {},
   "outputs": [
    {
     "data": {
      "text/plain": [
       "238"
      ]
     },
     "execution_count": 10,
     "metadata": {},
     "output_type": "execute_result"
    }
   ],
   "source": [
    "gdp_df['Country'].nunique()"
   ]
  },
  {
   "cell_type": "code",
   "execution_count": 11,
   "id": "93e90813",
   "metadata": {},
   "outputs": [
    {
     "data": {
      "text/plain": [
       "Lebanon                      30\n",
       "Middle income                30\n",
       "Morocco                      30\n",
       "Mozambique                   30\n",
       "Myanmar                      30\n",
       "                             ..\n",
       "Nauru                        16\n",
       "Cayman Islands               13\n",
       "Sint Maarten (Dutch part)    10\n",
       "Turks and Caicos Islands      9\n",
       "Djibouti                      7\n",
       "Name: Country, Length: 238, dtype: int64"
      ]
     },
     "execution_count": 11,
     "metadata": {},
     "output_type": "execute_result"
    }
   ],
   "source": [
    "gdp_df['Country'].value_counts()"
   ]
  },
  {
   "cell_type": "markdown",
   "id": "5adbf6f7",
   "metadata": {},
   "source": [
    "There are 238 countries and Djibouti is the least represented. why??"
   ]
  },
  {
   "cell_type": "markdown",
   "id": "303b79d7",
   "metadata": {},
   "source": [
    "## Number 9"
   ]
  },
  {
   "cell_type": "code",
   "execution_count": 12,
   "id": "520b79de",
   "metadata": {},
   "outputs": [
    {
     "data": {
      "text/html": [
       "<div>\n",
       "<style scoped>\n",
       "    .dataframe tbody tr th:only-of-type {\n",
       "        vertical-align: middle;\n",
       "    }\n",
       "\n",
       "    .dataframe tbody tr th {\n",
       "        vertical-align: top;\n",
       "    }\n",
       "\n",
       "    .dataframe thead th {\n",
       "        text-align: right;\n",
       "    }\n",
       "</style>\n",
       "<table border=\"1\" class=\"dataframe\">\n",
       "  <thead>\n",
       "    <tr style=\"text-align: right;\">\n",
       "      <th></th>\n",
       "      <th>Country</th>\n",
       "      <th>Year</th>\n",
       "      <th>GDP_Per_Capita</th>\n",
       "    </tr>\n",
       "  </thead>\n",
       "  <tbody>\n",
       "    <tr>\n",
       "      <th>5</th>\n",
       "      <td>Afghanistan</td>\n",
       "      <td>2014</td>\n",
       "      <td>2102.385234</td>\n",
       "    </tr>\n",
       "    <tr>\n",
       "      <th>23</th>\n",
       "      <td>Albania</td>\n",
       "      <td>2014</td>\n",
       "      <td>11623.866679</td>\n",
       "    </tr>\n",
       "    <tr>\n",
       "      <th>53</th>\n",
       "      <td>Algeria</td>\n",
       "      <td>2014</td>\n",
       "      <td>11512.705405</td>\n",
       "    </tr>\n",
       "    <tr>\n",
       "      <th>83</th>\n",
       "      <td>Angola</td>\n",
       "      <td>2014</td>\n",
       "      <td>8239.828837</td>\n",
       "    </tr>\n",
       "    <tr>\n",
       "      <th>113</th>\n",
       "      <td>Antigua and Barbuda</td>\n",
       "      <td>2014</td>\n",
       "      <td>18104.241470</td>\n",
       "    </tr>\n",
       "  </tbody>\n",
       "</table>\n",
       "</div>"
      ],
      "text/plain": [
       "                 Country  Year  GDP_Per_Capita\n",
       "5            Afghanistan  2014     2102.385234\n",
       "23               Albania  2014    11623.866679\n",
       "53               Algeria  2014    11512.705405\n",
       "83                Angola  2014     8239.828837\n",
       "113  Antigua and Barbuda  2014    18104.241470"
      ]
     },
     "execution_count": 12,
     "metadata": {},
     "output_type": "execute_result"
    }
   ],
   "source": [
    "gdp_2014 = gdp_df[gdp_df['Year'] == 2014]\n",
    "gdp_2014.head()"
   ]
  },
  {
   "cell_type": "markdown",
   "id": "51afa5cf",
   "metadata": {},
   "source": [
    "## Number 10"
   ]
  },
  {
   "cell_type": "code",
   "execution_count": 13,
   "id": "66fad628",
   "metadata": {},
   "outputs": [
    {
     "data": {
      "text/html": [
       "<div>\n",
       "<style scoped>\n",
       "    .dataframe tbody tr th:only-of-type {\n",
       "        vertical-align: middle;\n",
       "    }\n",
       "\n",
       "    .dataframe tbody tr th {\n",
       "        vertical-align: top;\n",
       "    }\n",
       "\n",
       "    .dataframe thead th {\n",
       "        text-align: right;\n",
       "    }\n",
       "</style>\n",
       "<table border=\"1\" class=\"dataframe\">\n",
       "  <thead>\n",
       "    <tr style=\"text-align: right;\">\n",
       "      <th></th>\n",
       "      <th>Year</th>\n",
       "      <th>GDP_Per_Capita</th>\n",
       "    </tr>\n",
       "  </thead>\n",
       "  <tbody>\n",
       "    <tr>\n",
       "      <th>count</th>\n",
       "      <td>238.0</td>\n",
       "      <td>238.000000</td>\n",
       "    </tr>\n",
       "    <tr>\n",
       "      <th>mean</th>\n",
       "      <td>2014.0</td>\n",
       "      <td>19766.710348</td>\n",
       "    </tr>\n",
       "    <tr>\n",
       "      <th>std</th>\n",
       "      <td>0.0</td>\n",
       "      <td>20983.869623</td>\n",
       "    </tr>\n",
       "    <tr>\n",
       "      <th>min</th>\n",
       "      <td>2014.0</td>\n",
       "      <td>822.610458</td>\n",
       "    </tr>\n",
       "    <tr>\n",
       "      <th>25%</th>\n",
       "      <td>2014.0</td>\n",
       "      <td>4753.110934</td>\n",
       "    </tr>\n",
       "    <tr>\n",
       "      <th>50%</th>\n",
       "      <td>2014.0</td>\n",
       "      <td>12209.385755</td>\n",
       "    </tr>\n",
       "    <tr>\n",
       "      <th>75%</th>\n",
       "      <td>2014.0</td>\n",
       "      <td>26803.610474</td>\n",
       "    </tr>\n",
       "    <tr>\n",
       "      <th>max</th>\n",
       "      <td>2014.0</td>\n",
       "      <td>156514.133850</td>\n",
       "    </tr>\n",
       "  </tbody>\n",
       "</table>\n",
       "</div>"
      ],
      "text/plain": [
       "         Year  GDP_Per_Capita\n",
       "count   238.0      238.000000\n",
       "mean   2014.0    19766.710348\n",
       "std       0.0    20983.869623\n",
       "min    2014.0      822.610458\n",
       "25%    2014.0     4753.110934\n",
       "50%    2014.0    12209.385755\n",
       "75%    2014.0    26803.610474\n",
       "max    2014.0   156514.133850"
      ]
     },
     "execution_count": 13,
     "metadata": {},
     "output_type": "execute_result"
    }
   ],
   "source": [
    "gdp_2014.describe()"
   ]
  },
  {
   "cell_type": "markdown",
   "id": "97fea260",
   "metadata": {},
   "source": [
    "## Number 11"
   ]
  },
  {
   "cell_type": "code",
   "execution_count": 14,
   "id": "5431f7d4",
   "metadata": {},
   "outputs": [
    {
     "data": {
      "image/png": "[encoded data removed]",
      "text/plain": [
       "<Figure size 720x432 with 1 Axes>"
      ]
     },
     "metadata": {},
     "output_type": "display_data"
    }
   ],
   "source": [
    "plt.figure(figsize = (10,6))\n",
    "plt.hist(gdp_2014['GDP_Per_Capita'])\n",
    "plt.xlabel('GDP_Per_Capita')\n",
    "plt.show()"
   ]
  },
  {
   "cell_type": "markdown",
   "id": "5ee1aaf8",
   "metadata": {},
   "source": [
    "The shape is very right skweded"
   ]
  },
  {
   "cell_type": "markdown",
   "id": "084247c4",
   "metadata": {},
   "source": [
    "## Number 12"
   ]
  },
  {
   "cell_type": "code",
   "execution_count": 15,
   "id": "5a4477eb",
   "metadata": {},
   "outputs": [
    {
     "data": {
      "text/html": [
       "<div>\n",
       "<style scoped>\n",
       "    .dataframe tbody tr th:only-of-type {\n",
       "        vertical-align: middle;\n",
       "    }\n",
       "\n",
       "    .dataframe tbody tr th {\n",
       "        vertical-align: top;\n",
       "    }\n",
       "\n",
       "    .dataframe thead th {\n",
       "        text-align: right;\n",
       "    }\n",
       "</style>\n",
       "<table border=\"1\" class=\"dataframe\">\n",
       "  <thead>\n",
       "    <tr style=\"text-align: right;\">\n",
       "      <th></th>\n",
       "      <th>Country</th>\n",
       "      <th>Year</th>\n",
       "      <th>GDP_Per_Capita</th>\n",
       "    </tr>\n",
       "  </thead>\n",
       "  <tbody>\n",
       "    <tr>\n",
       "      <th>3721</th>\n",
       "      <td>Macao SAR, China</td>\n",
       "      <td>2014</td>\n",
       "      <td>156514.133850</td>\n",
       "    </tr>\n",
       "    <tr>\n",
       "      <th>3691</th>\n",
       "      <td>Luxembourg</td>\n",
       "      <td>2014</td>\n",
       "      <td>108760.916030</td>\n",
       "    </tr>\n",
       "    <tr>\n",
       "      <th>5138</th>\n",
       "      <td>Qatar</td>\n",
       "      <td>2014</td>\n",
       "      <td>95578.416973</td>\n",
       "    </tr>\n",
       "    <tr>\n",
       "      <th>5464</th>\n",
       "      <td>Singapore</td>\n",
       "      <td>2014</td>\n",
       "      <td>87808.663157</td>\n",
       "    </tr>\n",
       "    <tr>\n",
       "      <th>561</th>\n",
       "      <td>Bermuda</td>\n",
       "      <td>2014</td>\n",
       "      <td>77361.104881</td>\n",
       "    </tr>\n",
       "  </tbody>\n",
       "</table>\n",
       "</div>"
      ],
      "text/plain": [
       "               Country  Year  GDP_Per_Capita\n",
       "3721  Macao SAR, China  2014   156514.133850\n",
       "3691        Luxembourg  2014   108760.916030\n",
       "5138             Qatar  2014    95578.416973\n",
       "5464         Singapore  2014    87808.663157\n",
       "561            Bermuda  2014    77361.104881"
      ]
     },
     "execution_count": 15,
     "metadata": {},
     "output_type": "execute_result"
    }
   ],
   "source": [
    "gdp_2014.sort_values(by = 'GDP_Per_Capita', ascending = False).head()"
   ]
  },
  {
   "cell_type": "code",
   "execution_count": 16,
   "id": "72f8ef14",
   "metadata": {},
   "outputs": [
    {
     "data": {
      "text/html": [
       "<div>\n",
       "<style scoped>\n",
       "    .dataframe tbody tr th:only-of-type {\n",
       "        vertical-align: middle;\n",
       "    }\n",
       "\n",
       "    .dataframe tbody tr th {\n",
       "        vertical-align: top;\n",
       "    }\n",
       "\n",
       "    .dataframe thead th {\n",
       "        text-align: right;\n",
       "    }\n",
       "</style>\n",
       "<table border=\"1\" class=\"dataframe\">\n",
       "  <thead>\n",
       "    <tr style=\"text-align: right;\">\n",
       "      <th></th>\n",
       "      <th>Country</th>\n",
       "      <th>Year</th>\n",
       "      <th>GDP_Per_Capita</th>\n",
       "    </tr>\n",
       "  </thead>\n",
       "  <tbody>\n",
       "    <tr>\n",
       "      <th>4528</th>\n",
       "      <td>Niger</td>\n",
       "      <td>2014</td>\n",
       "      <td>1127.615541</td>\n",
       "    </tr>\n",
       "    <tr>\n",
       "      <th>1422</th>\n",
       "      <td>Dem. Rep. Congo</td>\n",
       "      <td>2014</td>\n",
       "      <td>1029.790785</td>\n",
       "    </tr>\n",
       "    <tr>\n",
       "      <th>3781</th>\n",
       "      <td>Malawi</td>\n",
       "      <td>2014</td>\n",
       "      <td>1027.208496</td>\n",
       "    </tr>\n",
       "    <tr>\n",
       "      <th>827</th>\n",
       "      <td>Burundi</td>\n",
       "      <td>2014</td>\n",
       "      <td>886.235777</td>\n",
       "    </tr>\n",
       "    <tr>\n",
       "      <th>1047</th>\n",
       "      <td>Central African Republic</td>\n",
       "      <td>2014</td>\n",
       "      <td>822.610458</td>\n",
       "    </tr>\n",
       "  </tbody>\n",
       "</table>\n",
       "</div>"
      ],
      "text/plain": [
       "                       Country  Year  GDP_Per_Capita\n",
       "4528                     Niger  2014     1127.615541\n",
       "1422           Dem. Rep. Congo  2014     1029.790785\n",
       "3781                    Malawi  2014     1027.208496\n",
       "827                    Burundi  2014      886.235777\n",
       "1047  Central African Republic  2014      822.610458"
      ]
     },
     "execution_count": 16,
     "metadata": {},
     "output_type": "execute_result"
    }
   ],
   "source": [
    "gdp_2014.sort_values(by = 'GDP_Per_Capita', ascending = False).tail()"
   ]
  },
  {
   "cell_type": "markdown",
   "id": "3da3526c",
   "metadata": {},
   "source": [
    "## Number 13"
   ]
  },
  {
   "cell_type": "code",
   "execution_count": 17,
   "id": "629b2fd8",
   "metadata": {},
   "outputs": [
    {
     "data": {
      "text/html": [
       "<div>\n",
       "<style scoped>\n",
       "    .dataframe tbody tr th:only-of-type {\n",
       "        vertical-align: middle;\n",
       "    }\n",
       "\n",
       "    .dataframe tbody tr th {\n",
       "        vertical-align: top;\n",
       "    }\n",
       "\n",
       "    .dataframe thead th {\n",
       "        text-align: right;\n",
       "    }\n",
       "</style>\n",
       "<table border=\"1\" class=\"dataframe\">\n",
       "  <thead>\n",
       "    <tr style=\"text-align: right;\">\n",
       "      <th>Year</th>\n",
       "      <th>1990</th>\n",
       "      <th>2017</th>\n",
       "    </tr>\n",
       "    <tr>\n",
       "      <th>Country</th>\n",
       "      <th></th>\n",
       "      <th></th>\n",
       "    </tr>\n",
       "  </thead>\n",
       "  <tbody>\n",
       "    <tr>\n",
       "      <th>Albania</th>\n",
       "      <td>4842.734635</td>\n",
       "      <td>12811.759436</td>\n",
       "    </tr>\n",
       "    <tr>\n",
       "      <th>Algeria</th>\n",
       "      <td>8746.352901</td>\n",
       "      <td>11737.409353</td>\n",
       "    </tr>\n",
       "    <tr>\n",
       "      <th>Angola</th>\n",
       "      <td>5783.429064</td>\n",
       "      <td>7310.901738</td>\n",
       "    </tr>\n",
       "    <tr>\n",
       "      <th>Antigua and Barbuda</th>\n",
       "      <td>15459.551675</td>\n",
       "      <td>19840.076123</td>\n",
       "    </tr>\n",
       "    <tr>\n",
       "      <th>Arab World</th>\n",
       "      <td>9694.667544</td>\n",
       "      <td>14555.474921</td>\n",
       "    </tr>\n",
       "    <tr>\n",
       "      <th>...</th>\n",
       "      <td>...</td>\n",
       "      <td>...</td>\n",
       "    </tr>\n",
       "    <tr>\n",
       "      <th>Vanuatu</th>\n",
       "      <td>2888.309393</td>\n",
       "      <td>3116.645194</td>\n",
       "    </tr>\n",
       "    <tr>\n",
       "      <th>Vietnam</th>\n",
       "      <td>1673.249634</td>\n",
       "      <td>7155.745829</td>\n",
       "    </tr>\n",
       "    <tr>\n",
       "      <th>World</th>\n",
       "      <td>9680.269697</td>\n",
       "      <td>16253.385518</td>\n",
       "    </tr>\n",
       "    <tr>\n",
       "      <th>Zambia</th>\n",
       "      <td>2190.182814</td>\n",
       "      <td>3485.005238</td>\n",
       "    </tr>\n",
       "    <tr>\n",
       "      <th>Zimbabwe</th>\n",
       "      <td>3324.348171</td>\n",
       "      <td>3028.245976</td>\n",
       "    </tr>\n",
       "  </tbody>\n",
       "</table>\n",
       "<p>207 rows × 2 columns</p>\n",
       "</div>"
      ],
      "text/plain": [
       "Year                         1990          2017\n",
       "Country                                        \n",
       "Albania               4842.734635  12811.759436\n",
       "Algeria               8746.352901  11737.409353\n",
       "Angola                5783.429064   7310.901738\n",
       "Antigua and Barbuda  15459.551675  19840.076123\n",
       "Arab World            9694.667544  14555.474921\n",
       "...                           ...           ...\n",
       "Vanuatu               2888.309393   3116.645194\n",
       "Vietnam               1673.249634   7155.745829\n",
       "World                 9680.269697  16253.385518\n",
       "Zambia                2190.182814   3485.005238\n",
       "Zimbabwe              3324.348171   3028.245976\n",
       "\n",
       "[207 rows x 2 columns]"
      ]
     },
     "execution_count": 17,
     "metadata": {},
     "output_type": "execute_result"
    }
   ],
   "source": [
    "gdp_pivoted = gdp_df[gdp_df['Year'].isin([1990, 2017])]\n",
    "gdp_pivoted = gdp_pivoted.pivot_table(values = 'GDP_Per_Capita', index = 'Country', columns = 'Year').dropna(axis = 0)\n",
    "gdp_pivoted"
   ]
  },
  {
   "cell_type": "markdown",
   "id": "06acaf64",
   "metadata": {},
   "source": [
    "## Number 14"
   ]
  },
  {
   "cell_type": "code",
   "execution_count": 18,
   "id": "5a1e4a83",
   "metadata": {},
   "outputs": [
    {
     "data": {
      "text/html": [
       "<div>\n",
       "<style scoped>\n",
       "    .dataframe tbody tr th:only-of-type {\n",
       "        vertical-align: middle;\n",
       "    }\n",
       "\n",
       "    .dataframe tbody tr th {\n",
       "        vertical-align: top;\n",
       "    }\n",
       "\n",
       "    .dataframe thead th {\n",
       "        text-align: right;\n",
       "    }\n",
       "</style>\n",
       "<table border=\"1\" class=\"dataframe\">\n",
       "  <thead>\n",
       "    <tr style=\"text-align: right;\">\n",
       "      <th>Year</th>\n",
       "      <th>1990</th>\n",
       "      <th>2017</th>\n",
       "      <th>Percent_Change</th>\n",
       "    </tr>\n",
       "    <tr>\n",
       "      <th>Country</th>\n",
       "      <th></th>\n",
       "      <th></th>\n",
       "      <th></th>\n",
       "    </tr>\n",
       "  </thead>\n",
       "  <tbody>\n",
       "    <tr>\n",
       "      <th>United Arab Emirates</th>\n",
       "      <td>111454.360446</td>\n",
       "      <td>67183.626557</td>\n",
       "      <td>0.000541</td>\n",
       "    </tr>\n",
       "    <tr>\n",
       "      <th>Brunei</th>\n",
       "      <td>71230.862143</td>\n",
       "      <td>60995.681114</td>\n",
       "      <td>0.001202</td>\n",
       "    </tr>\n",
       "    <tr>\n",
       "      <th>Bermuda</th>\n",
       "      <td>65961.406278</td>\n",
       "      <td>81834.955874</td>\n",
       "      <td>0.001881</td>\n",
       "    </tr>\n",
       "    <tr>\n",
       "      <th>Switzerland</th>\n",
       "      <td>55420.151714</td>\n",
       "      <td>66910.573701</td>\n",
       "      <td>0.002179</td>\n",
       "    </tr>\n",
       "    <tr>\n",
       "      <th>Luxembourg</th>\n",
       "      <td>67857.540495</td>\n",
       "      <td>112666.769445</td>\n",
       "      <td>0.002447</td>\n",
       "    </tr>\n",
       "  </tbody>\n",
       "</table>\n",
       "</div>"
      ],
      "text/plain": [
       "Year                           1990           2017  Percent_Change\n",
       "Country                                                           \n",
       "United Arab Emirates  111454.360446   67183.626557        0.000541\n",
       "Brunei                 71230.862143   60995.681114        0.001202\n",
       "Bermuda                65961.406278   81834.955874        0.001881\n",
       "Switzerland            55420.151714   66910.573701        0.002179\n",
       "Luxembourg             67857.540495  112666.769445        0.002447"
      ]
     },
     "execution_count": 18,
     "metadata": {},
     "output_type": "execute_result"
    }
   ],
   "source": [
    "gdp_pivoted['Percent_Change'] = 100 * (gdp_pivoted[2017] / gdp_pivoted[1990]) / gdp_pivoted[1990]\n",
    "gdp_pivoted.sort_values(by = 'Percent_Change').head()"
   ]
  },
  {
   "cell_type": "markdown",
   "id": "8330e301",
   "metadata": {},
   "source": [
    "## Number 15\n",
    "No countries expierence a negative gdp."
   ]
  },
  {
   "cell_type": "markdown",
   "id": "aa352159",
   "metadata": {},
   "source": [
    "## Number 16"
   ]
  },
  {
   "cell_type": "code",
   "execution_count": 19,
   "id": "2bb7979e",
   "metadata": {},
   "outputs": [
    {
     "data": {
      "text/html": [
       "<div>\n",
       "<style scoped>\n",
       "    .dataframe tbody tr th:only-of-type {\n",
       "        vertical-align: middle;\n",
       "    }\n",
       "\n",
       "    .dataframe tbody tr th {\n",
       "        vertical-align: top;\n",
       "    }\n",
       "\n",
       "    .dataframe thead th {\n",
       "        text-align: right;\n",
       "    }\n",
       "</style>\n",
       "<table border=\"1\" class=\"dataframe\">\n",
       "  <thead>\n",
       "    <tr style=\"text-align: right;\">\n",
       "      <th>Year</th>\n",
       "      <th>1990</th>\n",
       "      <th>2017</th>\n",
       "      <th>Percent_Change</th>\n",
       "    </tr>\n",
       "    <tr>\n",
       "      <th>Country</th>\n",
       "      <th></th>\n",
       "      <th></th>\n",
       "      <th></th>\n",
       "    </tr>\n",
       "  </thead>\n",
       "  <tbody>\n",
       "    <tr>\n",
       "      <th>Equatorial Guinea</th>\n",
       "      <td>1039.985049</td>\n",
       "      <td>22551.083246</td>\n",
       "      <td>2.085034</td>\n",
       "    </tr>\n",
       "    <tr>\n",
       "      <th>Myanmar</th>\n",
       "      <td>619.645144</td>\n",
       "      <td>4739.910118</td>\n",
       "      <td>1.234480</td>\n",
       "    </tr>\n",
       "  </tbody>\n",
       "</table>\n",
       "</div>"
      ],
      "text/plain": [
       "Year                      1990          2017  Percent_Change\n",
       "Country                                                     \n",
       "Equatorial Guinea  1039.985049  22551.083246        2.085034\n",
       "Myanmar             619.645144   4739.910118        1.234480"
      ]
     },
     "execution_count": 19,
     "metadata": {},
     "output_type": "execute_result"
    }
   ],
   "source": [
    "gdp_pivoted.sort_values(by = 'Percent_Change', ascending = False).head(2)"
   ]
  },
  {
   "cell_type": "code",
   "execution_count": 20,
   "id": "44d50596",
   "metadata": {},
   "outputs": [],
   "source": [
    "gdp_equ_guinea = gdp_df.loc[gdp_df['Country'] == 'Equatorial Guinea']\n",
    "gdp_equ_guinea = gdp_equ_guinea[(gdp_equ_guinea['Year'] >= 1990) & (gdp_equ_guinea['Year'] <= 2017)]\n",
    "#gdp_equ_guinea = gdp_equ_guinea[gdp_equ_guinea['Year'] < 2018] \n",
    "#gdp_equ_guinea = gdp_equ_guinea[gdp_equ_guinea['Year'] > 1992]"
   ]
  },
  {
   "cell_type": "code",
   "execution_count": 21,
   "id": "8d8f623c",
   "metadata": {},
   "outputs": [],
   "source": [
    "gdp_myanmar = gdp_df.loc[gdp_df['Country'] == 'Myanmar']\n",
    "gdp_myanmar = gdp_myanmar[gdp_myanmar['Year'] < 2018]"
   ]
  },
  {
   "cell_type": "code",
   "execution_count": 22,
   "id": "4dc842fe",
   "metadata": {},
   "outputs": [
    {
     "data": {
      "image/png": "[encoded data removed]",
      "text/plain": [
       "<Figure size 720x432 with 1 Axes>"
      ]
     },
     "metadata": {},
     "output_type": "display_data"
    }
   ],
   "source": [
    "plt.figure(figsize = (10,6))\n",
    "plt.plot('Year', 'GDP_Per_Capita', data = gdp_equ_guinea, label = 'Equatorial Guinea')\n",
    "plt.plot('Year', 'GDP_Per_Capita', data = gdp_myanmar, label = 'Myanmar')\n",
    "plt.xlabel('Year')\n",
    "plt.ylabel('GDP Per Capita')\n",
    "plt.legend()\n",
    "plt.show()"
   ]
  },
  {
   "cell_type": "markdown",
   "id": "015781a2",
   "metadata": {},
   "source": [
    "## Number 17"
   ]
  },
  {
   "cell_type": "code",
   "execution_count": 23,
   "id": "740c6c0e",
   "metadata": {},
   "outputs": [],
   "source": [
    "continents = pd.read_csv('../data/continents.csv')"
   ]
  },
  {
   "cell_type": "markdown",
   "id": "400f6c5a",
   "metadata": {},
   "source": [
    "## Number 18"
   ]
  },
  {
   "cell_type": "code",
   "execution_count": 24,
   "id": "d9066882",
   "metadata": {},
   "outputs": [],
   "source": [
    "gdp_df = pd.merge(gdp_df, continents, how = 'inner', on = 'Country')"
   ]
  },
  {
   "cell_type": "markdown",
   "id": "d2f48977",
   "metadata": {},
   "source": [
    "## Number 19"
   ]
  },
  {
   "cell_type": "code",
   "execution_count": 25,
   "id": "a04cdacb",
   "metadata": {},
   "outputs": [],
   "source": [
    "country_per_contin = gdp_df.groupby('Continent')[['Country']].nunique()\n",
    "country_per_contin = country_per_contin.reset_index()"
   ]
  },
  {
   "cell_type": "code",
   "execution_count": 26,
   "id": "476ca4f6",
   "metadata": {},
   "outputs": [
    {
     "data": {
      "image/png": "[encoded data removed]",
      "text/plain": [
       "<Figure size 720x432 with 1 Axes>"
      ]
     },
     "metadata": {},
     "output_type": "display_data"
    }
   ],
   "source": [
    "plt.figure(figsize = (10,6))\n",
    "plt.bar(x = country_per_contin['Continent'], height = country_per_contin['Country'])\n",
    "plt.xlabel('Continent')\n",
    "plt.ylabel('Number_of_Countries')\n",
    "plt.show()"
   ]
  },
  {
   "cell_type": "markdown",
   "id": "3565c176",
   "metadata": {},
   "source": [
    "## Number 20"
   ]
  },
  {
   "cell_type": "code",
   "execution_count": 27,
   "id": "b8608c6b",
   "metadata": {},
   "outputs": [],
   "source": [
    "#list_continents = gdp_2014_continent['Continent'].unique()"
   ]
  },
  {
   "cell_type": "code",
   "execution_count": 28,
   "id": "e181ef1b",
   "metadata": {},
   "outputs": [],
   "source": [
    "#Africa = gdp_2014_continent.loc[gdp_2014_continent['Continent'] == 'Africa'][['GDP_Per_Capita']]\n",
    "#Asia = gdp_2014_continent.loc[gdp_2014_continent['Continent'] == 'Asia'][['GDP_Per_Capita']]\n",
    "#Europe = gdp_2014_continent.loc[gdp_2014_continent['Continent'] == 'Europe'][['GDP_Per_Capita']]\n",
    "#North_America = gdp_2014_continent.loc[gdp_2014_continent['Continent'] == 'North America'][['GDP_Per_Capita']]\n",
    "#Oceania = gdp_2014_continent.loc[gdp_2014_continent['Continent'] == 'Oceania'][['GDP_Per_Capita']]\n",
    "#South_America = gdp_2014_continent.loc[gdp_2014_continent['Continent'] == 'South America'][['GDP_Per_Capita']]"
   ]
  },
  {
   "cell_type": "code",
   "execution_count": 29,
   "id": "6a3fb049",
   "metadata": {},
   "outputs": [],
   "source": [
    "gdp_2014_continent = gdp_df[gdp_df['Year'] == 2014]\n",
    "gdp_2014_continent = gdp_2014_continent.drop(columns = 'Year')\n",
    "#gdp_2014_continent.groupby('Continent')[['GDP_Per_Capita']].plot(kind = 'box');\n",
    "#sns.boxplot(data = gdp_2014_continent,\n",
    "            #x = Asia,\n",
    "            #y = [Africa, Asia, Europe, North_America, Oceania, South_America])"
   ]
  },
  {
   "cell_type": "markdown",
   "id": "a599f20b",
   "metadata": {},
   "source": [
    "## Number 21"
   ]
  },
  {
   "cell_type": "code",
   "execution_count": 30,
   "id": "22eab669",
   "metadata": {},
   "outputs": [],
   "source": [
    "life_expectancy = pd.read_csv('../data/life_expectancy.csv', skiprows = 3, engine = 'python')"
   ]
  },
  {
   "cell_type": "markdown",
   "id": "058be7d5",
   "metadata": {},
   "source": [
    "## Number 22"
   ]
  },
  {
   "cell_type": "code",
   "execution_count": 31,
   "id": "e52a7775",
   "metadata": {},
   "outputs": [],
   "source": [
    "life_expectancy = life_expectancy.drop(columns = ['Country Code', 'Indicator Name', 'Indicator Code'])"
   ]
  },
  {
   "cell_type": "code",
   "execution_count": 32,
   "id": "fb53d98e",
   "metadata": {},
   "outputs": [],
   "source": [
    "life_expectancy = pd.melt(life_expectancy, id_vars = ['Country Name'], value_vars = life_expectancy.iloc[:,1:-2])\n",
    "life_expectancy = life_expectancy.rename(columns = {'Country Name' : 'Country', 'variable' : 'Year', 'value' : 'Life_Expectancy'})"
   ]
  },
  {
   "cell_type": "markdown",
   "id": "7949903a",
   "metadata": {},
   "source": [
    "## Number 23"
   ]
  },
  {
   "cell_type": "code",
   "execution_count": 33,
   "id": "3044c6b2",
   "metadata": {},
   "outputs": [
    {
     "data": {
      "text/html": [
       "<div>\n",
       "<style scoped>\n",
       "    .dataframe tbody tr th:only-of-type {\n",
       "        vertical-align: middle;\n",
       "    }\n",
       "\n",
       "    .dataframe tbody tr th {\n",
       "        vertical-align: top;\n",
       "    }\n",
       "\n",
       "    .dataframe thead th {\n",
       "        text-align: right;\n",
       "    }\n",
       "</style>\n",
       "<table border=\"1\" class=\"dataframe\">\n",
       "  <thead>\n",
       "    <tr style=\"text-align: right;\">\n",
       "      <th></th>\n",
       "      <th>Country</th>\n",
       "      <th>Year</th>\n",
       "      <th>Life_Expectancy</th>\n",
       "    </tr>\n",
       "  </thead>\n",
       "  <tbody>\n",
       "    <tr>\n",
       "      <th>9695</th>\n",
       "      <td>Japan</td>\n",
       "      <td>1996</td>\n",
       "      <td>80.200244</td>\n",
       "    </tr>\n",
       "    <tr>\n",
       "      <th>9938</th>\n",
       "      <td>Hong Kong SAR, China</td>\n",
       "      <td>1997</td>\n",
       "      <td>80.126829</td>\n",
       "    </tr>\n",
       "    <tr>\n",
       "      <th>9961</th>\n",
       "      <td>Japan</td>\n",
       "      <td>1997</td>\n",
       "      <td>80.424146</td>\n",
       "    </tr>\n",
       "    <tr>\n",
       "      <th>10204</th>\n",
       "      <td>Hong Kong SAR, China</td>\n",
       "      <td>1998</td>\n",
       "      <td>80.131707</td>\n",
       "    </tr>\n",
       "    <tr>\n",
       "      <th>10227</th>\n",
       "      <td>Japan</td>\n",
       "      <td>1998</td>\n",
       "      <td>80.501463</td>\n",
       "    </tr>\n",
       "  </tbody>\n",
       "</table>\n",
       "</div>"
      ],
      "text/plain": [
       "                    Country  Year  Life_Expectancy\n",
       "9695                  Japan  1996        80.200244\n",
       "9938   Hong Kong SAR, China  1997        80.126829\n",
       "9961                  Japan  1997        80.424146\n",
       "10204  Hong Kong SAR, China  1998        80.131707\n",
       "10227                 Japan  1998        80.501463"
      ]
     },
     "execution_count": 33,
     "metadata": {},
     "output_type": "execute_result"
    }
   ],
   "source": [
    "life_expectancy.loc[life_expectancy['Life_Expectancy'] >= 80].head()"
   ]
  },
  {
   "cell_type": "markdown",
   "id": "41c8578d",
   "metadata": {},
   "source": [
    "## Number 24"
   ]
  },
  {
   "cell_type": "code",
   "execution_count": 34,
   "id": "84c87a11",
   "metadata": {},
   "outputs": [],
   "source": [
    "life_expectancy['Year'] = pd.to_numeric(life_expectancy['Year'])\n",
    "gdp_le = pd.merge(gdp_df, life_expectancy, how = 'outer', on = ['Country', 'Year'])"
   ]
  },
  {
   "cell_type": "code",
   "execution_count": 35,
   "id": "f5237203",
   "metadata": {},
   "outputs": [
    {
     "data": {
      "text/html": [
       "<div>\n",
       "<style scoped>\n",
       "    .dataframe tbody tr th:only-of-type {\n",
       "        vertical-align: middle;\n",
       "    }\n",
       "\n",
       "    .dataframe tbody tr th {\n",
       "        vertical-align: top;\n",
       "    }\n",
       "\n",
       "    .dataframe thead th {\n",
       "        text-align: right;\n",
       "    }\n",
       "</style>\n",
       "<table border=\"1\" class=\"dataframe\">\n",
       "  <thead>\n",
       "    <tr style=\"text-align: right;\">\n",
       "      <th></th>\n",
       "      <th>Country</th>\n",
       "      <th>Year</th>\n",
       "      <th>GDP_Per_Capita</th>\n",
       "      <th>Continent</th>\n",
       "      <th>Life_Expectancy</th>\n",
       "    </tr>\n",
       "  </thead>\n",
       "  <tbody>\n",
       "    <tr>\n",
       "      <th>0</th>\n",
       "      <td>Afghanistan</td>\n",
       "      <td>2019</td>\n",
       "      <td>2065.036398</td>\n",
       "      <td>Asia</td>\n",
       "      <td>64.833</td>\n",
       "    </tr>\n",
       "    <tr>\n",
       "      <th>1</th>\n",
       "      <td>Afghanistan</td>\n",
       "      <td>2018</td>\n",
       "      <td>2033.779002</td>\n",
       "      <td>Asia</td>\n",
       "      <td>64.486</td>\n",
       "    </tr>\n",
       "    <tr>\n",
       "      <th>2</th>\n",
       "      <td>Afghanistan</td>\n",
       "      <td>2017</td>\n",
       "      <td>2058.383832</td>\n",
       "      <td>Asia</td>\n",
       "      <td>64.130</td>\n",
       "    </tr>\n",
       "    <tr>\n",
       "      <th>3</th>\n",
       "      <td>Afghanistan</td>\n",
       "      <td>2016</td>\n",
       "      <td>2057.062164</td>\n",
       "      <td>Asia</td>\n",
       "      <td>63.763</td>\n",
       "    </tr>\n",
       "    <tr>\n",
       "      <th>4</th>\n",
       "      <td>Afghanistan</td>\n",
       "      <td>2015</td>\n",
       "      <td>2068.265904</td>\n",
       "      <td>Asia</td>\n",
       "      <td>63.377</td>\n",
       "    </tr>\n",
       "  </tbody>\n",
       "</table>\n",
       "</div>"
      ],
      "text/plain": [
       "       Country  Year  GDP_Per_Capita Continent  Life_Expectancy\n",
       "0  Afghanistan  2019     2065.036398      Asia           64.833\n",
       "1  Afghanistan  2018     2033.779002      Asia           64.486\n",
       "2  Afghanistan  2017     2058.383832      Asia           64.130\n",
       "3  Afghanistan  2016     2057.062164      Asia           63.763\n",
       "4  Afghanistan  2015     2068.265904      Asia           63.377"
      ]
     },
     "execution_count": 35,
     "metadata": {},
     "output_type": "execute_result"
    }
   ],
   "source": [
    "gdp_le.head()"
   ]
  },
  {
   "cell_type": "code",
   "execution_count": 36,
   "id": "8e032af9",
   "metadata": {},
   "outputs": [
    {
     "data": {
      "text/html": [
       "<div>\n",
       "<style scoped>\n",
       "    .dataframe tbody tr th:only-of-type {\n",
       "        vertical-align: middle;\n",
       "    }\n",
       "\n",
       "    .dataframe tbody tr th {\n",
       "        vertical-align: top;\n",
       "    }\n",
       "\n",
       "    .dataframe thead th {\n",
       "        text-align: right;\n",
       "    }\n",
       "</style>\n",
       "<table border=\"1\" class=\"dataframe\">\n",
       "  <thead>\n",
       "    <tr style=\"text-align: right;\">\n",
       "      <th></th>\n",
       "      <th>Country</th>\n",
       "      <th>Year</th>\n",
       "      <th>GDP_Per_Capita</th>\n",
       "      <th>Continent</th>\n",
       "      <th>Life_Expectancy</th>\n",
       "    </tr>\n",
       "  </thead>\n",
       "  <tbody>\n",
       "    <tr>\n",
       "      <th>16550</th>\n",
       "      <td>Kosovo</td>\n",
       "      <td>2020</td>\n",
       "      <td>NaN</td>\n",
       "      <td>NaN</td>\n",
       "      <td>71.087805</td>\n",
       "    </tr>\n",
       "    <tr>\n",
       "      <th>16551</th>\n",
       "      <td>Yemen, Rep.</td>\n",
       "      <td>2020</td>\n",
       "      <td>NaN</td>\n",
       "      <td>NaN</td>\n",
       "      <td>66.181000</td>\n",
       "    </tr>\n",
       "    <tr>\n",
       "      <th>16552</th>\n",
       "      <td>South Africa</td>\n",
       "      <td>2020</td>\n",
       "      <td>NaN</td>\n",
       "      <td>NaN</td>\n",
       "      <td>64.379000</td>\n",
       "    </tr>\n",
       "    <tr>\n",
       "      <th>16553</th>\n",
       "      <td>Zambia</td>\n",
       "      <td>2020</td>\n",
       "      <td>NaN</td>\n",
       "      <td>NaN</td>\n",
       "      <td>64.194000</td>\n",
       "    </tr>\n",
       "    <tr>\n",
       "      <th>16554</th>\n",
       "      <td>Zimbabwe</td>\n",
       "      <td>2020</td>\n",
       "      <td>NaN</td>\n",
       "      <td>NaN</td>\n",
       "      <td>61.738000</td>\n",
       "    </tr>\n",
       "  </tbody>\n",
       "</table>\n",
       "</div>"
      ],
      "text/plain": [
       "            Country  Year  GDP_Per_Capita Continent  Life_Expectancy\n",
       "16550        Kosovo  2020             NaN       NaN        71.087805\n",
       "16551   Yemen, Rep.  2020             NaN       NaN        66.181000\n",
       "16552  South Africa  2020             NaN       NaN        64.379000\n",
       "16553        Zambia  2020             NaN       NaN        64.194000\n",
       "16554      Zimbabwe  2020             NaN       NaN        61.738000"
      ]
     },
     "execution_count": 36,
     "metadata": {},
     "output_type": "execute_result"
    }
   ],
   "source": [
    "gdp_le.tail()"
   ]
  },
  {
   "cell_type": "markdown",
   "id": "108dffe4",
   "metadata": {},
   "source": [
    "## Number 25"
   ]
  },
  {
   "cell_type": "code",
   "execution_count": 37,
   "id": "f79d2169",
   "metadata": {},
   "outputs": [
    {
     "data": {
      "text/plain": [
       "43"
      ]
     },
     "execution_count": 37,
     "metadata": {},
     "output_type": "execute_result"
    }
   ],
   "source": [
    "gdp_le_2019 = gdp_le.loc[gdp_le['Year'] == 2019].copy()\n",
    "gdp_le_2019.loc[gdp_le_2019['Life_Expectancy'] >= 80]['Country'].count()"
   ]
  },
  {
   "cell_type": "markdown",
   "id": "871d21ca",
   "metadata": {},
   "source": [
    "## Number 26"
   ]
  },
  {
   "cell_type": "code",
   "execution_count": 38,
   "id": "81812125",
   "metadata": {},
   "outputs": [
    {
     "data": {
      "text/html": [
       "<div>\n",
       "<style scoped>\n",
       "    .dataframe tbody tr th:only-of-type {\n",
       "        vertical-align: middle;\n",
       "    }\n",
       "\n",
       "    .dataframe tbody tr th {\n",
       "        vertical-align: top;\n",
       "    }\n",
       "\n",
       "    .dataframe thead th {\n",
       "        text-align: right;\n",
       "    }\n",
       "</style>\n",
       "<table border=\"1\" class=\"dataframe\">\n",
       "  <thead>\n",
       "    <tr style=\"text-align: right;\">\n",
       "      <th></th>\n",
       "      <th>Country</th>\n",
       "      <th>Year</th>\n",
       "      <th>GDP_Per_Capita</th>\n",
       "      <th>Continent</th>\n",
       "      <th>Life_Expectancy</th>\n",
       "    </tr>\n",
       "  </thead>\n",
       "  <tbody>\n",
       "    <tr>\n",
       "      <th>2856</th>\n",
       "      <td>Macao SAR, China</td>\n",
       "      <td>2019</td>\n",
       "      <td>123965.286432</td>\n",
       "      <td>Asia</td>\n",
       "      <td>84.244000</td>\n",
       "    </tr>\n",
       "    <tr>\n",
       "      <th>2826</th>\n",
       "      <td>Luxembourg</td>\n",
       "      <td>2019</td>\n",
       "      <td>114304.044210</td>\n",
       "      <td>Europe</td>\n",
       "      <td>82.639024</td>\n",
       "    </tr>\n",
       "    <tr>\n",
       "      <th>4290</th>\n",
       "      <td>Singapore</td>\n",
       "      <td>2019</td>\n",
       "      <td>97341.468645</td>\n",
       "      <td>Asia</td>\n",
       "      <td>83.595122</td>\n",
       "    </tr>\n",
       "  </tbody>\n",
       "</table>\n",
       "</div>"
      ],
      "text/plain": [
       "               Country  Year  GDP_Per_Capita Continent  Life_Expectancy\n",
       "2856  Macao SAR, China  2019   123965.286432      Asia        84.244000\n",
       "2826        Luxembourg  2019   114304.044210    Europe        82.639024\n",
       "4290         Singapore  2019    97341.468645      Asia        83.595122"
      ]
     },
     "execution_count": 38,
     "metadata": {},
     "output_type": "execute_result"
    }
   ],
   "source": [
    "top_3_gdp_2019 = gdp_le_2019.sort_values(by = 'GDP_Per_Capita', ascending = False).iloc[0:3]\n",
    "top_3_gdp_2019"
   ]
  },
  {
   "cell_type": "code",
   "execution_count": 39,
   "id": "fa6a5a3f",
   "metadata": {},
   "outputs": [],
   "source": [
    "top_3_gdp = gdp_le.loc[gdp_le['Country'].isin(list(top_3_gdp_2019['Country']))]"
   ]
  },
  {
   "cell_type": "code",
   "execution_count": 40,
   "id": "2cec4488",
   "metadata": {},
   "outputs": [],
   "source": [
    "#top_3_gdp = gdp_le.loc[(gdp_le['Country'] == 'Macao SAR, China') | (gdp_le['Country'] == 'Luxembourg') | (gdp_le['Country'] == 'Singapore')]"
   ]
  },
  {
   "cell_type": "code",
   "execution_count": 41,
   "id": "8d7bf580",
   "metadata": {},
   "outputs": [
    {
     "data": {
      "image/png": "[encoded data removed]",
      "text/plain": [
       "<Figure size 864x288 with 3 Axes>"
      ]
     },
     "metadata": {},
     "output_type": "display_data"
    }
   ],
   "source": [
    "g = sns.FacetGrid(top_3_gdp, col = 'Country', height = 4);\n",
    "g.map(sns.lineplot, 'Year', 'GDP_Per_Capita');"
   ]
  },
  {
   "cell_type": "markdown",
   "id": "ced76215",
   "metadata": {},
   "source": [
    "## Number 27"
   ]
  },
  {
   "cell_type": "code",
   "execution_count": 42,
   "id": "be1ee5d3",
   "metadata": {},
   "outputs": [
    {
     "data": {
      "image/png": "[encoded data removed]",
      "text/plain": [
       "<Figure size 720x432 with 1 Axes>"
      ]
     },
     "metadata": {},
     "output_type": "display_data"
    }
   ],
   "source": [
    "plt.figure(figsize = (10,6))\n",
    "plt.scatter(data = gdp_le_2019,\n",
    "            x = 'GDP_Per_Capita',\n",
    "            y = 'Life_Expectancy')\n",
    "plt.xlabel('GDP_Per_Capita')\n",
    "plt.ylabel('Life_Expectancy')\n",
    "plt.show()"
   ]
  },
  {
   "cell_type": "markdown",
   "id": "ae860ae2",
   "metadata": {},
   "source": [
    "Looks like an log graph "
   ]
  },
  {
   "cell_type": "markdown",
   "id": "2672909e",
   "metadata": {},
   "source": [
    "## Number 28"
   ]
  },
  {
   "cell_type": "code",
   "execution_count": 43,
   "id": "fc4b94ea",
   "metadata": {},
   "outputs": [
    {
     "data": {
      "text/plain": [
       "0.7090182746006474"
      ]
     },
     "execution_count": 43,
     "metadata": {},
     "output_type": "execute_result"
    }
   ],
   "source": [
    "gdp_le_2019['GDP_Per_Capita'].corr(gdp_le_2019['Life_Expectancy'])"
   ]
  },
  {
   "cell_type": "markdown",
   "id": "c6e86948",
   "metadata": {},
   "source": [
    "shows the strenght of a linear correlation. Since this value is kind of far from 1 the data does not show a sigificant linear relationship."
   ]
  },
  {
   "cell_type": "markdown",
   "id": "83571637",
   "metadata": {},
   "source": [
    "## Number 29"
   ]
  },
  {
   "cell_type": "code",
   "execution_count": 44,
   "id": "f78b61b7",
   "metadata": {},
   "outputs": [
    {
     "data": {
      "text/html": [
       "<div>\n",
       "<style scoped>\n",
       "    .dataframe tbody tr th:only-of-type {\n",
       "        vertical-align: middle;\n",
       "    }\n",
       "\n",
       "    .dataframe tbody tr th {\n",
       "        vertical-align: top;\n",
       "    }\n",
       "\n",
       "    .dataframe thead th {\n",
       "        text-align: right;\n",
       "    }\n",
       "</style>\n",
       "<table border=\"1\" class=\"dataframe\">\n",
       "  <thead>\n",
       "    <tr style=\"text-align: right;\">\n",
       "      <th></th>\n",
       "      <th>Country</th>\n",
       "      <th>Year</th>\n",
       "      <th>GDP_Per_Capita</th>\n",
       "      <th>Continent</th>\n",
       "      <th>Life_Expectancy</th>\n",
       "    </tr>\n",
       "  </thead>\n",
       "  <tbody>\n",
       "    <tr>\n",
       "      <th>0</th>\n",
       "      <td>Afghanistan</td>\n",
       "      <td>2019</td>\n",
       "      <td>2065.036398</td>\n",
       "      <td>Asia</td>\n",
       "      <td>64.833</td>\n",
       "    </tr>\n",
       "    <tr>\n",
       "      <th>18</th>\n",
       "      <td>Albania</td>\n",
       "      <td>2019</td>\n",
       "      <td>13724.058790</td>\n",
       "      <td>Europe</td>\n",
       "      <td>78.573</td>\n",
       "    </tr>\n",
       "    <tr>\n",
       "      <th>48</th>\n",
       "      <td>Algeria</td>\n",
       "      <td>2019</td>\n",
       "      <td>11510.557088</td>\n",
       "      <td>Africa</td>\n",
       "      <td>76.880</td>\n",
       "    </tr>\n",
       "    <tr>\n",
       "      <th>78</th>\n",
       "      <td>Angola</td>\n",
       "      <td>2019</td>\n",
       "      <td>6670.332297</td>\n",
       "      <td>Africa</td>\n",
       "      <td>61.147</td>\n",
       "    </tr>\n",
       "    <tr>\n",
       "      <th>108</th>\n",
       "      <td>Antigua and Barbuda</td>\n",
       "      <td>2019</td>\n",
       "      <td>21910.184985</td>\n",
       "      <td>North America</td>\n",
       "      <td>77.016</td>\n",
       "    </tr>\n",
       "  </tbody>\n",
       "</table>\n",
       "</div>"
      ],
      "text/plain": [
       "                 Country  Year  GDP_Per_Capita      Continent  Life_Expectancy\n",
       "0            Afghanistan  2019     2065.036398           Asia           64.833\n",
       "18               Albania  2019    13724.058790         Europe           78.573\n",
       "48               Algeria  2019    11510.557088         Africa           76.880\n",
       "78                Angola  2019     6670.332297         Africa           61.147\n",
       "108  Antigua and Barbuda  2019    21910.184985  North America           77.016"
      ]
     },
     "execution_count": 44,
     "metadata": {},
     "output_type": "execute_result"
    }
   ],
   "source": [
    "gdp_le_2019.head()"
   ]
  },
  {
   "cell_type": "code",
   "execution_count": 45,
   "id": "8c8a9538",
   "metadata": {},
   "outputs": [
    {
     "data": {
      "text/html": [
       "<div>\n",
       "<style scoped>\n",
       "    .dataframe tbody tr th:only-of-type {\n",
       "        vertical-align: middle;\n",
       "    }\n",
       "\n",
       "    .dataframe tbody tr th {\n",
       "        vertical-align: top;\n",
       "    }\n",
       "\n",
       "    .dataframe thead th {\n",
       "        text-align: right;\n",
       "    }\n",
       "</style>\n",
       "<table border=\"1\" class=\"dataframe\">\n",
       "  <thead>\n",
       "    <tr style=\"text-align: right;\">\n",
       "      <th></th>\n",
       "      <th>Country</th>\n",
       "      <th>Year</th>\n",
       "      <th>GDP_Per_Capita</th>\n",
       "      <th>Continent</th>\n",
       "      <th>Life_Expectancy</th>\n",
       "      <th>log_gdp</th>\n",
       "    </tr>\n",
       "  </thead>\n",
       "  <tbody>\n",
       "    <tr>\n",
       "      <th>0</th>\n",
       "      <td>Afghanistan</td>\n",
       "      <td>2019</td>\n",
       "      <td>2065.036398</td>\n",
       "      <td>Asia</td>\n",
       "      <td>64.833</td>\n",
       "      <td>7.632903</td>\n",
       "    </tr>\n",
       "    <tr>\n",
       "      <th>18</th>\n",
       "      <td>Albania</td>\n",
       "      <td>2019</td>\n",
       "      <td>13724.058790</td>\n",
       "      <td>Europe</td>\n",
       "      <td>78.573</td>\n",
       "      <td>9.526906</td>\n",
       "    </tr>\n",
       "    <tr>\n",
       "      <th>48</th>\n",
       "      <td>Algeria</td>\n",
       "      <td>2019</td>\n",
       "      <td>11510.557088</td>\n",
       "      <td>Africa</td>\n",
       "      <td>76.880</td>\n",
       "      <td>9.351020</td>\n",
       "    </tr>\n",
       "    <tr>\n",
       "      <th>78</th>\n",
       "      <td>Angola</td>\n",
       "      <td>2019</td>\n",
       "      <td>6670.332297</td>\n",
       "      <td>Africa</td>\n",
       "      <td>61.147</td>\n",
       "      <td>8.805425</td>\n",
       "    </tr>\n",
       "    <tr>\n",
       "      <th>108</th>\n",
       "      <td>Antigua and Barbuda</td>\n",
       "      <td>2019</td>\n",
       "      <td>21910.184985</td>\n",
       "      <td>North America</td>\n",
       "      <td>77.016</td>\n",
       "      <td>9.994707</td>\n",
       "    </tr>\n",
       "  </tbody>\n",
       "</table>\n",
       "</div>"
      ],
      "text/plain": [
       "                 Country  Year  GDP_Per_Capita      Continent  \\\n",
       "0            Afghanistan  2019     2065.036398           Asia   \n",
       "18               Albania  2019    13724.058790         Europe   \n",
       "48               Algeria  2019    11510.557088         Africa   \n",
       "78                Angola  2019     6670.332297         Africa   \n",
       "108  Antigua and Barbuda  2019    21910.184985  North America   \n",
       "\n",
       "     Life_Expectancy   log_gdp  \n",
       "0             64.833  7.632903  \n",
       "18            78.573  9.526906  \n",
       "48            76.880  9.351020  \n",
       "78            61.147  8.805425  \n",
       "108           77.016  9.994707  "
      ]
     },
     "execution_count": 45,
     "metadata": {},
     "output_type": "execute_result"
    }
   ],
   "source": [
    "#gdp_le_2019.loc[:, 'GDP_Per_Capita']\n",
    "\n",
    "#np.log(gdp_le_2019.iloc[:, 2:3]) \n",
    "\n",
    "#np.log(gdp_le_2019['GDP_Per_Capita']) \n",
    "\n",
    "gdp_le_2019['log_gdp'] = np.log(gdp_le_2019['GDP_Per_Capita']) \n",
    "gdp_le_2019.head()"
   ]
  },
  {
   "cell_type": "code",
   "execution_count": 46,
   "id": "04fb3815",
   "metadata": {},
   "outputs": [
    {
     "data": {
      "text/plain": [
       "0.8484975848006419"
      ]
     },
     "execution_count": 46,
     "metadata": {},
     "output_type": "execute_result"
    }
   ],
   "source": [
    "gdp_le_2019['log_gdp'].corr(gdp_le_2019['Life_Expectancy'])"
   ]
  },
  {
   "cell_type": "markdown",
   "id": "94c653a5",
   "metadata": {},
   "source": [
    "The correlation is better than before."
   ]
  },
  {
   "cell_type": "code",
   "execution_count": 47,
   "id": "92a3d77d",
   "metadata": {},
   "outputs": [
    {
     "data": {
      "image/png": "[encoded data removed]",
      "text/plain": [
       "<Figure size 720x432 with 1 Axes>"
      ]
     },
     "metadata": {},
     "output_type": "display_data"
    }
   ],
   "source": [
    "plt.figure(figsize = (10,6))\n",
    "plt.scatter(data = gdp_le_2019,\n",
    "            x = 'log_gdp',\n",
    "            y = 'Life_Expectancy')\n",
    "plt.xlabel('log_of_GDP_Per_Capita')\n",
    "plt.ylabel('Life_Expectancy')\n",
    "plt.show()"
   ]
  },
  {
   "cell_type": "markdown",
   "id": "6dc1f689",
   "metadata": {},
   "source": [
    "## Self Exploration "
   ]
  },
  {
   "cell_type": "code",
   "execution_count": 48,
   "id": "074e3af3",
   "metadata": {},
   "outputs": [],
   "source": [
    "birth_rate_raw = pd.read_csv('../data/birth_rate.csv', skipfooter = 5, engine = 'python')\n",
    "birth_rate = birth_rate_raw.drop(columns = ['Series Name', 'Series Code', 'Country Code', '2021 [YR2021]'])\n",
    "birth_rate.columns = ['Country', '1997', '1998', '1999',\n",
    "       '2000', '2001', '2002', '2003',\n",
    "       '2004', '2005', '2006', '2007',\n",
    "       '2008', '2009', '2010', '2011',\n",
    "       '2012', '2013', '2014', '2015',\n",
    "       '2016', '2017', '2018', '2019',\n",
    "       '2020']"
   ]
  },
  {
   "cell_type": "code",
   "execution_count": 49,
   "id": "cdc06224",
   "metadata": {},
   "outputs": [],
   "source": [
    "birth_rate = pd.melt(birth_rate, id_vars = ['Country'], value_vars = birth_rate.iloc[:,1:])\n",
    "birth_rate = birth_rate.rename(columns = {'variable' : 'Year', 'value' : 'Birth Rate'})\n",
    "birth_rate = birth_rate[birth_rate['Birth Rate'] != '..']"
   ]
  },
  {
   "cell_type": "code",
   "execution_count": 50,
   "id": "19b3de6a",
   "metadata": {},
   "outputs": [],
   "source": [
    "birth_rate['Year'] = birth_rate['Year'].astype('int')\n",
    "birth_rate['Birth Rate'] = birth_rate['Birth Rate'].astype('float')"
   ]
  },
  {
   "cell_type": "code",
   "execution_count": 51,
   "id": "7d926300",
   "metadata": {},
   "outputs": [],
   "source": [
    "population_per_raw = pd.read_csv('../data/population_percent.csv', skipfooter = 5, engine = 'python')\n",
    "pop_growth_per = population_per_raw.drop(columns = ['Series Name', 'Series Code', 'Country Code', '2021 [YR2021]'])\n",
    "pop_growth_per.columns = ['Country', '1997', '1998', '1999',\n",
    "       '2000', '2001', '2002', '2003',\n",
    "       '2004', '2005', '2006', '2007',\n",
    "       '2008', '2009', '2010', '2011',\n",
    "       '2012', '2013', '2014', '2015',\n",
    "       '2016', '2017', '2018', '2019',\n",
    "       '2020']"
   ]
  },
  {
   "cell_type": "code",
   "execution_count": 52,
   "id": "7fda920c",
   "metadata": {},
   "outputs": [],
   "source": [
    "pop_growth_per = pd.melt(pop_growth_per, id_vars = ['Country'], value_vars = pop_growth_per.iloc[:,1:])\n",
    "pop_growth_per = pop_growth_per.rename(columns = {'variable' : 'Year', 'value' : 'Population_Growth_Percent'})\n",
    "pop_growth_per = pop_growth_per[pop_growth_per.Population_Growth_Percent != '..']"
   ]
  },
  {
   "cell_type": "code",
   "execution_count": 53,
   "id": "9d9bd269",
   "metadata": {},
   "outputs": [],
   "source": [
    "pop_growth_per['Year'] = pop_growth_per['Year'].astype('int')\n",
    "pop_growth_per['Population_Growth_Percent'] = pd.to_numeric(pop_growth_per['Population_Growth_Percent'])"
   ]
  },
  {
   "cell_type": "code",
   "execution_count": 54,
   "id": "e2459f73",
   "metadata": {},
   "outputs": [],
   "source": [
    "gdp_pgp = pd.merge(gdp_df, pop_growth_per, how = 'outer', on = ['Country', 'Year'])"
   ]
  },
  {
   "cell_type": "code",
   "execution_count": 55,
   "id": "91bf78fc",
   "metadata": {},
   "outputs": [],
   "source": [
    "gdp_pgp_2019 = gdp_pgp.loc[gdp_pgp['Year'] == 2019]"
   ]
  },
  {
   "cell_type": "code",
   "execution_count": 73,
   "id": "71b0c8e4",
   "metadata": {},
   "outputs": [
    {
     "data": {
      "image/png": "[encoded data removed]",
      "text/plain": [
       "<Figure size 720x432 with 1 Axes>"
      ]
     },
     "metadata": {},
     "output_type": "display_data"
    }
   ],
   "source": [
    "plt.figure(figsize = (10,6))\n",
    "plt.scatter(data = gdp_pgp_2019,\n",
    "            x = 'GDP_Per_Capita',\n",
    "            y = 'Population_Growth_Percent')\n",
    "plt.xlabel('GDP_Per_Capita')\n",
    "plt.ylabel('Population_Growth_Percent')\n",
    "plt.title('Population_Growth_Percent vs GDP_Per_Capita(2019)')\n",
    "plt.show()"
   ]
  },
  {
   "cell_type": "code",
   "execution_count": 57,
   "id": "585b8079",
   "metadata": {},
   "outputs": [
    {
     "data": {
      "text/plain": [
       "-0.26874450972705566"
      ]
     },
     "execution_count": 57,
     "metadata": {},
     "output_type": "execute_result"
    }
   ],
   "source": [
    "gdp_pgp_2019['GDP_Per_Capita'].corr(gdp_pgp_2019['Population_Growth_Percent'])"
   ]
  },
  {
   "cell_type": "code",
   "execution_count": 58,
   "id": "a6e24bd4",
   "metadata": {},
   "outputs": [],
   "source": [
    "gdp_br = pd.merge(gdp_df, birth_rate, how = 'outer', on = ['Country', 'Year'])"
   ]
  },
  {
   "cell_type": "code",
   "execution_count": 65,
   "id": "e786f759",
   "metadata": {},
   "outputs": [],
   "source": [
    "gdp_br_2019 = gdp_br.loc[gdp_pgp['Year'] == 2019].copy()"
   ]
  },
  {
   "cell_type": "code",
   "execution_count": 74,
   "id": "d68f5613",
   "metadata": {},
   "outputs": [
    {
     "data": {
      "image/png": "[encoded data removed]",
      "text/plain": [
       "<Figure size 720x432 with 1 Axes>"
      ]
     },
     "metadata": {},
     "output_type": "display_data"
    }
   ],
   "source": [
    "plt.figure(figsize = (10,6))\n",
    "plt.scatter(data = gdp_br_2019,\n",
    "            x = 'GDP_Per_Capita',\n",
    "            y = 'Birth Rate')\n",
    "plt.xlabel('GDP_Per_Capita')\n",
    "plt.ylabel('Birth_Rate')\n",
    "plt.title('Birth_Rate vs GDP_Per_Capita(2019)')\n",
    "plt.show()"
   ]
  },
  {
   "cell_type": "code",
   "execution_count": 63,
   "id": "4cf2e16e",
   "metadata": {},
   "outputs": [
    {
     "data": {
      "text/plain": [
       "-0.6445154480058073"
      ]
     },
     "execution_count": 63,
     "metadata": {},
     "output_type": "execute_result"
    }
   ],
   "source": [
    "gdp_br_2019['GDP_Per_Capita'].corr(gdp_br_2019['Birth Rate'])"
   ]
  },
  {
   "cell_type": "code",
   "execution_count": 72,
   "id": "b7c8d302",
   "metadata": {},
   "outputs": [],
   "source": [
    "gdp_br_2019['log_gdp'] = np.log(gdp_br_2019['GDP_Per_Capita']) "
   ]
  },
  {
   "cell_type": "code",
   "execution_count": 75,
   "id": "a1b1e92e",
   "metadata": {},
   "outputs": [
    {
     "data": {
      "image/png": "[encoded data removed]",
      "text/plain": [
       "<Figure size 720x432 with 1 Axes>"
      ]
     },
     "metadata": {},
     "output_type": "display_data"
    }
   ],
   "source": [
    "plt.figure(figsize = (10,6))\n",
    "plt.scatter(data = gdp_br_2019,\n",
    "            x = 'log_gdp',\n",
    "            y = 'Birth Rate')\n",
    "plt.xlabel('log_of_GDP_Per_Capita')\n",
    "plt.ylabel('Birth_Rate')\n",
    "plt.title('Birth_Rate vs Log_of_GDP_Per_Capita(2019)')\n",
    "plt.show()"
   ]
  },
  {
   "cell_type": "code",
   "execution_count": 68,
   "id": "f1bc73fb",
   "metadata": {},
   "outputs": [
    {
     "data": {
      "text/plain": [
       "-0.8586879070538288"
      ]
     },
     "execution_count": 68,
     "metadata": {},
     "output_type": "execute_result"
    }
   ],
   "source": [
    "gdp_br_2019['log_gdp'].corr(gdp_br_2019['Birth Rate'])"
   ]
  },
  {
   "cell_type": "code",
   "execution_count": null,
   "id": "8c194a7f",
   "metadata": {},
   "outputs": [],
   "source": []
  }
 ],
 "metadata": {
  "kernelspec": {
   "display_name": "Python 3 (ipykernel)",
   "language": "python",
   "name": "python3"
  },
  "language_info": {
   "codemirror_mode": {
    "name": "ipython",
    "version": 3
   },
   "file_extension": ".py",
   "mimetype": "text/x-python",
   "name": "python",
   "nbconvert_exporter": "python",
   "pygments_lexer": "ipython3",
   "version": "3.9.12"
  }
 },
 "nbformat": 4,
 "nbformat_minor": 5
}
